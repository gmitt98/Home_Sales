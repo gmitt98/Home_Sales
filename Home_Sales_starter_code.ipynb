{
 "cells": [
  {
   "cell_type": "code",
   "execution_count": 1,
   "metadata": {
    "colab": {
     "base_uri": "https://localhost:8080/"
    },
    "id": "a_KW73O2e3dw",
    "outputId": "fa5fd2b3-e2de-491b-ee1c-405317ba7ebc"
   },
   "outputs": [],
   "source": [
    "# Import findspark and initialize. \n",
    "import findspark\n",
    "findspark.init()"
   ]
  },
  {
   "cell_type": "code",
   "execution_count": 3,
   "metadata": {
    "id": "2XbWNf1Te5fM"
   },
   "outputs": [
    {
     "name": "stderr",
     "output_type": "stream",
     "text": [
      "Setting default log level to \"WARN\".\n",
      "To adjust logging level use sc.setLogLevel(newLevel). For SparkR, use setLogLevel(newLevel).\n",
      "23/08/07 12:22:55 WARN NativeCodeLoader: Unable to load native-hadoop library for your platform... using builtin-java classes where applicable\n"
     ]
    }
   ],
   "source": [
    "# Import packages\n",
    "from pyspark.sql import SparkSession\n",
    "import time\n",
    "\n",
    "# Create a SparkSession\n",
    "spark = SparkSession.builder.appName(\"SparkSQL\").getOrCreate()"
   ]
  },
  {
   "cell_type": "code",
   "execution_count": 6,
   "metadata": {
    "colab": {
     "base_uri": "https://localhost:8080/"
    },
    "id": "wOJqxG_RPSwp",
    "outputId": "7857ef9f-5b04-405d-f5aa-e535dfe7870c"
   },
   "outputs": [],
   "source": [
    "# 1. Read in the AWS S3 bucket into a DataFrame.\n",
    "from pyspark import SparkFiles\n",
    "url = \"https://2u-data-curriculum-team.s3.amazonaws.com/dataviz-classroom/v1.2/22-big-data/home_sales_revised.csv\"\n",
    "\n"
   ]
  },
  {
   "cell_type": "code",
   "execution_count": 12,
   "metadata": {},
   "outputs": [
    {
     "name": "stderr",
     "output_type": "stream",
     "text": [
      "23/08/07 12:33:05 WARN SparkContext: The path https://2u-data-curriculum-team.s3.amazonaws.com/dataviz-classroom/v1.2/22-big-data/home_sales_revised.csv has been added already. Overwriting of added paths is not supported in the current version.\n",
      "                                                                                \r"
     ]
    },
    {
     "name": "stdout",
     "output_type": "stream",
     "text": [
      "+--------------------+----------+----------+------+--------+---------+-----------+--------+------+----------+----+\n",
      "|                  id|      date|date_built| price|bedrooms|bathrooms|sqft_living|sqft_lot|floors|waterfront|view|\n",
      "+--------------------+----------+----------+------+--------+---------+-----------+--------+------+----------+----+\n",
      "|f8a53099-ba1c-47d...|2022-04-08|      2016|936923|       4|        3|       3167|   11733|     2|         1|  76|\n",
      "|7530a2d8-1ae3-451...|2021-06-13|      2013|379628|       2|        2|       2235|   14384|     1|         0|  23|\n",
      "|43de979c-0bf0-4c9...|2019-04-12|      2014|417866|       2|        2|       2127|   10575|     2|         0|   0|\n",
      "|b672c137-b88c-48b...|2019-10-16|      2016|239895|       2|        2|       1631|   11149|     2|         0|   0|\n",
      "|e0726d4d-d595-407...|2022-01-08|      2017|424418|       3|        2|       2249|   13878|     2|         0|   4|\n",
      "|5aa00529-0533-46b...|2019-01-30|      2017|218712|       2|        3|       1965|   14375|     2|         0|   7|\n",
      "|131492a1-72e2-4a8...|2020-02-08|      2017|419199|       2|        3|       2062|    8876|     2|         0|   6|\n",
      "|8d54a71b-c520-44e...|2019-07-21|      2010|323956|       2|        3|       1506|   11816|     1|         0|  25|\n",
      "|e81aacfe-17fe-46b...|2020-06-16|      2016|181925|       3|        3|       2137|   11709|     2|         0|  22|\n",
      "|2ed8d509-7372-46d...|2021-08-06|      2015|258710|       3|        3|       1918|    9666|     1|         0|  25|\n",
      "|f876d86f-3c9f-42b...|2019-02-27|      2011|167864|       3|        3|       2471|   13924|     2|         0|  15|\n",
      "|0a2bd445-8508-4d8...|2021-12-30|      2014|337527|       2|        3|       1926|   12556|     1|         0|  23|\n",
      "|941bad30-eb49-4a7...|2020-05-09|      2015|229896|       3|        3|       2197|    8641|     1|         0|   3|\n",
      "|dd61eb34-6589-4c0...|2021-07-25|      2016|210247|       3|        2|       1672|   11986|     2|         0|  28|\n",
      "|f1e4cef7-d151-439...|2019-02-01|      2011|398667|       2|        3|       2331|   11356|     1|         0|   7|\n",
      "|ea620c7b-c2f7-4c6...|2021-05-31|      2011|437958|       3|        3|       2356|   11052|     1|         0|  26|\n",
      "|f233cb41-6f33-4b0...|2021-07-18|      2016|437375|       4|        3|       1704|   11721|     2|         0|  34|\n",
      "|c797ca12-52cd-4b1...|2019-06-08|      2015|288650|       2|        3|       2100|   10419|     2|         0|   7|\n",
      "|0cfe57f3-28c2-472...|2019-10-04|      2015|308313|       3|        3|       1960|    9453|     2|         0|   2|\n",
      "|4566cd2a-ac6e-435...|2019-07-15|      2016|177541|       3|        3|       2130|   10517|     2|         0|  25|\n",
      "+--------------------+----------+----------+------+--------+---------+-----------+--------+------+----------+----+\n",
      "only showing top 20 rows\n",
      "\n"
     ]
    }
   ],
   "source": [
    "spark.sparkContext.addFile(url)\n",
    "\n",
    "df = spark.read.csv(SparkFiles.get(\"home_sales_revised.csv\"), header=True, inferSchema=True)\n",
    "\n",
    "df.show()"
   ]
  },
  {
   "cell_type": "code",
   "execution_count": 13,
   "metadata": {
    "id": "RoljcJ7WPpnm"
   },
   "outputs": [],
   "source": [
    "# 2. Create a temporary view of the DataFrame.\n",
    "\n",
    "df.createOrReplaceTempView('home_sales_data_temp')"
   ]
  },
  {
   "cell_type": "code",
   "execution_count": 18,
   "metadata": {},
   "outputs": [],
   "source": [
    "# Sample query\n",
    "query = \"select * from home_sales_data_temp where bedrooms > 4 and bathrooms > 3 order by date desc\"\n",
    "result = spark.sql(query)"
   ]
  },
  {
   "cell_type": "code",
   "execution_count": 19,
   "metadata": {},
   "outputs": [
    {
     "name": "stderr",
     "output_type": "stream",
     "text": [
      "                                                                                \r"
     ]
    },
    {
     "name": "stdout",
     "output_type": "stream",
     "text": [
      "+--------------------+----------+----------+-------+--------+---------+-----------+--------+------+----------+----+\n",
      "|                  id|      date|date_built|  price|bedrooms|bathrooms|sqft_living|sqft_lot|floors|waterfront|view|\n",
      "+--------------------+----------+----------+-------+--------+---------+-----------+--------+------+----------+----+\n",
      "|741770e3-4c7d-43c...|2022-06-10|      2015|1491885|       7|        6|       5662|    9222|     1|         1|  83|\n",
      "|a00a321f-ab16-490...|2022-06-07|      2016|1317548|       7|        5|       5035|   14577|     1|         1|  91|\n",
      "|64eb1acb-6729-4cd...|2022-06-06|      2015|1456592|       6|        4|       5803|    8857|     3|         0|  89|\n",
      "|2f3eb18d-3526-408...|2022-05-27|      2016|1352170|       6|        5|       5350|   14958|     2|         1|  81|\n",
      "|bb612a79-a911-409...|2022-05-27|      2016|1459677|       6|        4|       5086|   12009|     1|         1|  78|\n",
      "|41f7e212-e965-4c8...|2022-05-26|      2016|1334175|       8|        4|       5582|   13765|     1|         1|  90|\n",
      "|a59e619f-6a87-4a9...|2022-05-25|      2016|1385441|       7|        4|       5080|   13377|     2|         0|  85|\n",
      "|bb3a48b9-69db-4f9...|2022-05-23|      2012|1345386|       8|        5|       5717|   14664|     1|         1|  87|\n",
      "|205e656b-5289-426...|2022-05-22|      2017|1479559|       8|        4|       5227|   10559|     1|         1|  83|\n",
      "|4e620450-4828-426...|2022-05-21|      2017|1473804|       7|        6|       5211|   13371|     1|         0|  90|\n",
      "|6e8d4d45-ccdd-4b6...|2022-05-21|      2014|1292767|       8|        4|       5297|   12623|     1|         1|  82|\n",
      "|e89d9865-07ce-4cb...|2022-05-20|      2015| 904730|       5|        4|       3143|   11152|     2|         0|  79|\n",
      "|0564a0fd-6812-4d3...|2022-05-18|      2017| 842372|       5|        6|       3308|    9466|     2|         1|  50|\n",
      "|85ee7150-14f6-468...|2022-05-15|      2011| 562266|       5|        5|       3490|   10374|     1|         1|  72|\n",
      "|ffc64ae4-69a1-4cc...|2022-05-11|      2010|1398520|       8|        5|       5392|   11844|     3|         0|  98|\n",
      "|7e51eb05-dc05-42c...|2022-05-10|      2014| 676433|       5|        4|       4345|   14054|     3|         0|  74|\n",
      "|2c1d15bd-f392-4e1...|2022-05-09|      2017|1483368|       6|        6|       5489|    8498|     3|         1|  83|\n",
      "|6d6cc6b7-f0e6-45f...|2022-04-29|      2013|1395373|       7|        5|       5079|    8887|     1|         0|  86|\n",
      "|7c6cc2a9-c081-4e4...|2022-04-25|      2010| 536457|       5|        6|       4281|    8031|     1|         0|  58|\n",
      "|277fc7ee-57d7-47b...|2022-04-25|      2013|1477625|       6|        4|       5409|   14320|     3|         1|  75|\n",
      "+--------------------+----------+----------+-------+--------+---------+-----------+--------+------+----------+----+\n",
      "only showing top 20 rows\n",
      "\n"
     ]
    }
   ],
   "source": [
    "result.show()"
   ]
  },
  {
   "cell_type": "code",
   "execution_count": 27,
   "metadata": {
    "colab": {
     "base_uri": "https://localhost:8080/"
    },
    "id": "L6fkwOeOmqvq",
    "outputId": "bdded620-79c4-488d-c7a5-91c6799c419e"
   },
   "outputs": [
    {
     "name": "stdout",
     "output_type": "stream",
     "text": [
      "+---------+---------+\n",
      "|year_sold|avg_price|\n",
      "+---------+---------+\n",
      "|     2022|296363.88|\n",
      "|     2021|301819.44|\n",
      "|     2020|298353.78|\n",
      "|     2019| 300263.7|\n",
      "+---------+---------+\n",
      "\n"
     ]
    }
   ],
   "source": [
    "# 3. What is the average price for a four bedroom house sold in each year rounded to two decimal places?\n",
    "\n",
    "query = \"\"\"\n",
    "        select year(date) as year_sold\n",
    "        , round(avg(price),2) as avg_price\n",
    "        from home_sales_data_temp\n",
    "        where bedrooms = 4\n",
    "        group by year_sold\n",
    "        order by year_sold desc\n",
    "        \"\"\"\n",
    "result = spark.sql(query)\n",
    "result.show()"
   ]
  },
  {
   "cell_type": "code",
   "execution_count": 28,
   "metadata": {
    "colab": {
     "base_uri": "https://localhost:8080/"
    },
    "id": "l8p_tUS8h8it",
    "outputId": "65806e5f-6262-41c0-ff65-5107464e5c4d"
   },
   "outputs": [
    {
     "name": "stdout",
     "output_type": "stream",
     "text": [
      "+----------+---------+\n",
      "|date_built|avg_price|\n",
      "+----------+---------+\n",
      "|      2017|292676.79|\n",
      "|      2016|290555.07|\n",
      "|      2015| 288770.3|\n",
      "|      2014|290852.27|\n",
      "|      2013|295962.27|\n",
      "|      2012|293683.19|\n",
      "|      2011|291117.47|\n",
      "|      2010|292859.62|\n",
      "+----------+---------+\n",
      "\n"
     ]
    }
   ],
   "source": [
    "# 4. What is the average price of a home for each year the home was built that have 3 bedrooms and 3 bathrooms rounded to two decimal places?\n",
    "\n",
    "query = \"\"\"\n",
    "        select date_built\n",
    "        , round(avg(price),2) as avg_price\n",
    "        from home_sales_data_temp\n",
    "        where bedrooms = 3\n",
    "        and bathrooms = 3\n",
    "        group by date_built\n",
    "        order by date_built desc\n",
    "        \"\"\"\n",
    "result = spark.sql(query)\n",
    "result.show()"
   ]
  },
  {
   "cell_type": "code",
   "execution_count": 29,
   "metadata": {
    "colab": {
     "base_uri": "https://localhost:8080/"
    },
    "id": "Y-Eytz64liDU",
    "outputId": "17119810-56ad-40c3-de5e-c3db57e43bcc"
   },
   "outputs": [
    {
     "name": "stdout",
     "output_type": "stream",
     "text": [
      "+----------+---------+\n",
      "|date_built|avg_price|\n",
      "+----------+---------+\n",
      "|      2017|280317.58|\n",
      "|      2016| 293965.1|\n",
      "|      2015|297609.97|\n",
      "|      2014|298264.72|\n",
      "|      2013|303676.79|\n",
      "|      2012|307539.97|\n",
      "|      2011|276553.81|\n",
      "|      2010|285010.22|\n",
      "+----------+---------+\n",
      "\n"
     ]
    }
   ],
   "source": [
    "#  5. What is the average price of a home for each year built that have 3 bedrooms, 3 bathrooms, with two floors,\n",
    "# and are greater than or equal to 2,000 square feet rounded to two decimal places?\n",
    "\n",
    "query = \"\"\"\n",
    "        select date_built\n",
    "        , round(avg(price),2) as avg_price\n",
    "        from home_sales_data_temp\n",
    "        where bedrooms = 3\n",
    "        and bathrooms = 3\n",
    "        and floors = 2\n",
    "        and sqft_living >= 2000\n",
    "        group by date_built\n",
    "        order by date_built desc\n",
    "        \"\"\"\n",
    "result = spark.sql(query)\n",
    "result.show()"
   ]
  },
  {
   "cell_type": "code",
   "execution_count": 31,
   "metadata": {
    "colab": {
     "base_uri": "https://localhost:8080/"
    },
    "id": "GUrfgOX1pCRd",
    "outputId": "17c25774-855e-4290-a4bd-a04902bdc13a"
   },
   "outputs": [
    {
     "name": "stdout",
     "output_type": "stream",
     "text": [
      "+-------------------------+---------------+\n",
      "|avg_price_homes_above_350|avg_view_rating|\n",
      "+-------------------------+---------------+\n",
      "|                 473796.0|         32.264|\n",
      "+-------------------------+---------------+\n",
      "\n",
      "--- 1.0604941844940186 seconds ---\n"
     ]
    }
   ],
   "source": [
    "# 6. What is the \"view\" rating for the average price of a home, rounded to two decimal places, where the homes are greater than\n",
    "# or equal to $350,000? Although this is a small dataset, determine the run time for this query.\n",
    "\n",
    "start_time = time.time()\n",
    "\n",
    "query = \"\"\"\n",
    "        select round(avg(price)) as avg_price_homes_above_350\n",
    "        , avg(view) as avg_view_rating\n",
    "        from home_sales_data_temp\n",
    "        where price >= 350000\n",
    "        \"\"\"\n",
    "result = spark.sql(query)\n",
    "result.show()\n",
    "\n",
    "print(\"--- %s seconds ---\" % (time.time() - start_time))"
   ]
  },
  {
   "attachments": {},
   "cell_type": "markdown",
   "metadata": {},
   "source": [
    "Runtime is 1.06 seconds"
   ]
  },
  {
   "cell_type": "code",
   "execution_count": 33,
   "metadata": {
    "colab": {
     "base_uri": "https://localhost:8080/"
    },
    "id": "KAhk3ZD2tFy8",
    "outputId": "0a8f132d-40a8-4bd4-b5f2-2847e98427f5"
   },
   "outputs": [
    {
     "name": "stderr",
     "output_type": "stream",
     "text": [
      "                                                                                \r"
     ]
    },
    {
     "data": {
      "text/plain": [
       "DataFrame[]"
      ]
     },
     "execution_count": 33,
     "metadata": {},
     "output_type": "execute_result"
    }
   ],
   "source": [
    "# 7. Cache the the temporary table home_sales.\n",
    "\n",
    "spark.sql(\"cache table home_sales_data_temp\")"
   ]
  },
  {
   "cell_type": "code",
   "execution_count": 34,
   "metadata": {
    "colab": {
     "base_uri": "https://localhost:8080/"
    },
    "id": "4opVhbvxtL-i",
    "outputId": "38ec8487-795f-4550-b50c-fcc6f2b7c769"
   },
   "outputs": [
    {
     "data": {
      "text/plain": [
       "True"
      ]
     },
     "execution_count": 34,
     "metadata": {},
     "output_type": "execute_result"
    }
   ],
   "source": [
    "# 8. Check if the table is cached.\n",
    "spark.catalog.isCached('home_sales_data_temp')"
   ]
  },
  {
   "cell_type": "code",
   "execution_count": 35,
   "metadata": {
    "colab": {
     "base_uri": "https://localhost:8080/"
    },
    "id": "5GnL46lwTSEk",
    "outputId": "09a16c73-194d-4371-95d1-ee64fe83b91c"
   },
   "outputs": [
    {
     "name": "stdout",
     "output_type": "stream",
     "text": [
      "+-------------------------+---------------+\n",
      "|avg_price_homes_above_350|avg_view_rating|\n",
      "+-------------------------+---------------+\n",
      "|                 473796.0|         32.264|\n",
      "+-------------------------+---------------+\n",
      "\n",
      "--- 0.8634040355682373 seconds ---\n"
     ]
    }
   ],
   "source": [
    "# 9. Using the cached data, run the query that filters out the view ratings with average price \n",
    "#  greater than or equal to $350,000. Determine the runtime and compare it to uncached runtime.\n",
    "\n",
    "start_time = time.time()\n",
    "\n",
    "query = \"\"\"\n",
    "        select round(avg(price)) as avg_price_homes_above_350\n",
    "        , avg(view) as avg_view_rating\n",
    "        from home_sales_data_temp\n",
    "        where price >= 350000\n",
    "        \"\"\"\n",
    "result = spark.sql(query)\n",
    "result.show()\n",
    "\n",
    "print(\"--- %s seconds ---\" % (time.time() - start_time))\n"
   ]
  },
  {
   "attachments": {},
   "cell_type": "markdown",
   "metadata": {},
   "source": [
    "Runtime is 0.86 seconds\n",
    "Previous, uncached runtime was 1.06 seconds"
   ]
  },
  {
   "cell_type": "code",
   "execution_count": 36,
   "metadata": {
    "id": "Qm12WN9isHBR"
   },
   "outputs": [
    {
     "name": "stderr",
     "output_type": "stream",
     "text": [
      "                                                                                \r"
     ]
    }
   ],
   "source": [
    "# 10. Partition by the \"date_built\" field on the formatted parquet home sales data \n",
    "\n",
    "df.write.partitionBy(\"date_built\").mode(\"overwrite\").parquet(\"home_sales_data_parquet\")"
   ]
  },
  {
   "cell_type": "code",
   "execution_count": 37,
   "metadata": {
    "id": "AZ7BgY61sRqY"
   },
   "outputs": [],
   "source": [
    "# 11. Read the formatted parquet data.\n",
    "\n",
    "df_parquet = spark. read.parquet(\"home_sales_data_parquet\")"
   ]
  },
  {
   "cell_type": "code",
   "execution_count": 38,
   "metadata": {
    "id": "J6MJkHfvVcvh"
   },
   "outputs": [],
   "source": [
    "# 12. Create a temporary table for the parquet data.\n",
    "\n",
    "df_parquet.createGlobalTempView(\"home_sales_data_parquet_temp\")"
   ]
  },
  {
   "cell_type": "code",
   "execution_count": 39,
   "metadata": {
    "colab": {
     "base_uri": "https://localhost:8080/"
    },
    "id": "G_Vhb52rU1Sn",
    "outputId": "a0b8d0c4-55ed-4c6c-bfd8-4c8c5334838e"
   },
   "outputs": [
    {
     "name": "stdout",
     "output_type": "stream",
     "text": [
      "+-------------------------+---------------+\n",
      "|avg_price_homes_above_350|avg_view_rating|\n",
      "+-------------------------+---------------+\n",
      "|                 473796.0|         32.264|\n",
      "+-------------------------+---------------+\n",
      "\n",
      "--- 0.6157078742980957 seconds ---\n"
     ]
    }
   ],
   "source": [
    "# 13. Run the query that filters out the view ratings with average price of greater than or eqaul to $350,000 \n",
    "# with the parquet DataFrame. Round your average to two decimal places. \n",
    "# Determine the runtime and compare it to the cached version. \n",
    "\n",
    "start_time = time.time()\n",
    "\n",
    "query = \"\"\"\n",
    "        select round(avg(price)) as avg_price_homes_above_350\n",
    "        , avg(view) as avg_view_rating\n",
    "        from home_sales_data_temp\n",
    "        where price >= 350000\n",
    "        \"\"\"\n",
    "result = spark.sql(query)\n",
    "result.show()\n",
    "\n",
    "print(\"--- %s seconds ---\" % (time.time() - start_time))"
   ]
  },
  {
   "attachments": {},
   "cell_type": "markdown",
   "metadata": {},
   "source": [
    "Runtime is 0.62 seconds.\n",
    "Previous, uncached runtime was 1.06 seconds, cached runtime was 0.86 seconds\n",
    "\n",
    "| Uncached  | Cached  |  Parquet |\n",
    "|---|---|---|\n",
    "|  1.06 | 0.86  | 0.62  |\n"
   ]
  },
  {
   "cell_type": "code",
   "execution_count": 40,
   "metadata": {
    "colab": {
     "base_uri": "https://localhost:8080/"
    },
    "id": "hjjYzQGjtbq8",
    "outputId": "830549fd-bb41-451b-9183-5ebf6e3e470b"
   },
   "outputs": [
    {
     "data": {
      "text/plain": [
       "DataFrame[]"
      ]
     },
     "execution_count": 40,
     "metadata": {},
     "output_type": "execute_result"
    }
   ],
   "source": [
    "# 14. Uncache the home_sales temporary table.\n",
    "\n",
    "spark.sql(\"uncache table home_sales_data_temp\")"
   ]
  },
  {
   "cell_type": "code",
   "execution_count": 41,
   "metadata": {
    "colab": {
     "base_uri": "https://localhost:8080/"
    },
    "id": "Sy9NBvO7tlmm",
    "outputId": "be73e0e3-5e85-4794-aad9-025fb6fa84a7"
   },
   "outputs": [
    {
     "data": {
      "text/plain": [
       "False"
      ]
     },
     "execution_count": 41,
     "metadata": {},
     "output_type": "execute_result"
    }
   ],
   "source": [
    "# 15. Check if the home_sales is no longer cached\n",
    "\n",
    "spark.catalog.isCached(\"home_sales_data_temp\")"
   ]
  },
  {
   "cell_type": "code",
   "execution_count": 55,
   "metadata": {},
   "outputs": [
    {
     "name": "stdout",
     "output_type": "stream",
     "text": [
      "+----------+--------+---------+---------+---------+\n",
      "|date_built|bedrooms|bathrooms|max_price|min_price|\n",
      "+----------+--------+---------+---------+---------+\n",
      "|      2013|       2|        2|   449985|   120023|\n",
      "|      2014|       2|        2|   449985|   120023|\n",
      "|      2016|       2|        2|   449985|   120023|\n",
      "|      2017|       2|        2|   449985|   120023|\n",
      "|      2014|       2|        2|   449985|   120023|\n",
      "|      2015|       2|        2|   449985|   120023|\n",
      "|      2012|       2|        2|   449985|   120023|\n",
      "|      2012|       2|        2|   449985|   120023|\n",
      "|      2017|       2|        2|   449985|   120023|\n",
      "|      2012|       2|        2|   449985|   120023|\n",
      "|      2014|       2|        2|   449985|   120023|\n",
      "|      2016|       2|        2|   449985|   120023|\n",
      "|      2013|       2|        2|   449985|   120023|\n",
      "|      2017|       2|        2|   449985|   120023|\n",
      "|      2017|       2|        2|   449985|   120023|\n",
      "|      2012|       2|        2|   449985|   120023|\n",
      "|      2012|       2|        2|   449985|   120023|\n",
      "|      2014|       2|        2|   449985|   120023|\n",
      "|      2014|       2|        2|   449985|   120023|\n",
      "|      2012|       2|        2|   449985|   120023|\n",
      "+----------+--------+---------+---------+---------+\n",
      "only showing top 20 rows\n",
      "\n"
     ]
    }
   ],
   "source": [
    "query = \"\"\"\n",
    "        select\n",
    "        date_built, bedrooms, bathrooms,\n",
    "        max(price) over (partition by bedrooms, bathrooms) as max_price,\n",
    "        min(price) over (partition by bedrooms, bathrooms) as min_price\n",
    "        from home_sales_data_temp;\n",
    "        \"\"\"\n",
    "result = spark.sql(query)\n",
    "result.show()"
   ]
  }
 ],
 "metadata": {
  "colab": {
   "collapsed_sections": [],
   "name": "Copy of Home_Sales_solution.ipynb",
   "provenance": []
  },
  "kernelspec": {
   "display_name": "Python 3 (ipykernel)",
   "language": "python",
   "name": "python3"
  },
  "language_info": {
   "codemirror_mode": {
    "name": "ipython",
    "version": 3
   },
   "file_extension": ".py",
   "mimetype": "text/x-python",
   "name": "python",
   "nbconvert_exporter": "python",
   "pygments_lexer": "ipython3",
   "version": "3.9.12"
  },
  "nteract": {
   "version": "0.28.0"
  }
 },
 "nbformat": 4,
 "nbformat_minor": 1
}
